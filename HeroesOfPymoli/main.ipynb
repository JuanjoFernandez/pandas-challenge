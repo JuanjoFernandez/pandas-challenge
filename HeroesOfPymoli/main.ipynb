{
 "cells": [
  {
   "cell_type": "code",
   "execution_count": 4,
   "metadata": {},
   "outputs": [],
   "source": [
    "#Importing libraries\n",
    "import csv\n",
    "import os\n",
    "import pandas as pd"
   ]
  },
  {
   "cell_type": "code",
   "execution_count": 5,
   "metadata": {},
   "outputs": [],
   "source": [
    "#path to csv file\n",
    "csvpath = os.path.join('Resources', 'purchase_data.csv')"
   ]
  },
  {
   "cell_type": "code",
   "execution_count": 23,
   "metadata": {},
   "outputs": [
    {
     "name": "stdout",
     "output_type": "stream",
     "text": [
      "Currently we have a total of 576 players making purchases in the game\n"
     ]
    }
   ],
   "source": [
    "#opening and converting the csv to a dataframe\n",
    "purchases_df = pd.read_csv(csvpath)\n",
    "\n",
    "#retrieving a list with all the individual players\n",
    "player_list = purchases_df[\"SN\"].unique()\n",
    "\n",
    "#obtaining total number of players\n",
    "total_players = len(player_list)\n",
    "print (\"Currently we have a total of \" + str(total_players) + \" players making purchases in the game\")\n",
    "\n"
   ]
  },
  {
   "cell_type": "code",
   "execution_count": 39,
   "metadata": {},
   "outputs": [
    {
     "name": "stdout",
     "output_type": "stream",
     "text": [
      "Currently we have a sold 179 unique items\n",
      "Average purchase: 3.050987179487176\n",
      "Total purchases: 780\n",
      "Total revenue: 2379.77\n"
     ]
    }
   ],
   "source": [
    "#doing purchasing analysis\n",
    "\n",
    "#obtaining the number of unique items sold\n",
    "items_list = purchases_df[\"Item Name\"].unique()\n",
    "total_items = len(items_list)\n",
    "print (\"Currently we have a sold \" + str(total_items) + \" unique items\")\n",
    "\n",
    "#obtaining the average purchase price\n",
    "average_purchase = purchases_df[\"Price\"].mean()\n",
    "print (\"Average purchase: \" + str(average_purchase))\n",
    "\n",
    "#obtaining total number of purchases\n",
    "#using Purchase ID to count since it's the column less likely to have missing values\n",
    "total_purchases = purchases_df[\"Purchase ID\"].count()\n",
    "print(\"Total purchases: \" + str(total_purchases))\n",
    "\n",
    "#obtaining total revenue\n",
    "total_revenue = purchases_df[\"Price\"].sum()\n",
    "print(\"Total revenue: \" + str(total_revenue))\n"
   ]
  },
  {
   "cell_type": "code",
   "execution_count": 33,
   "metadata": {},
   "outputs": [
    {
     "name": "stdout",
     "output_type": "stream",
     "text": [
      "3.050987179487176\n"
     ]
    }
   ],
   "source": []
  }
 ],
 "metadata": {
  "kernelspec": {
   "display_name": "Python 3",
   "language": "python",
   "name": "python3"
  },
  "language_info": {
   "codemirror_mode": {
    "name": "ipython",
    "version": 3
   },
   "file_extension": ".py",
   "mimetype": "text/x-python",
   "name": "python",
   "nbconvert_exporter": "python",
   "pygments_lexer": "ipython3",
   "version": "3.8.5"
  }
 },
 "nbformat": 4,
 "nbformat_minor": 4
}
