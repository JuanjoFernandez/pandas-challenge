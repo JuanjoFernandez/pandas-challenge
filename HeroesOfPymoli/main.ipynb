{
 "cells": [
  {
   "cell_type": "code",
   "execution_count": 4,
   "metadata": {},
   "outputs": [],
   "source": [
    "#Importing libraries\n",
    "import csv\n",
    "import os\n",
    "import pandas as pd"
   ]
  },
  {
   "cell_type": "code",
   "execution_count": 5,
   "metadata": {},
   "outputs": [],
   "source": [
    "#path to csv file\n",
    "csvpath = os.path.join('Resources', 'purchase_data.csv')"
   ]
  },
  {
   "cell_type": "code",
   "execution_count": 56,
   "metadata": {},
   "outputs": [
    {
     "data": {
      "text/html": [
       "<div>\n",
       "<style scoped>\n",
       "    .dataframe tbody tr th:only-of-type {\n",
       "        vertical-align: middle;\n",
       "    }\n",
       "\n",
       "    .dataframe tbody tr th {\n",
       "        vertical-align: top;\n",
       "    }\n",
       "\n",
       "    .dataframe thead th {\n",
       "        text-align: right;\n",
       "    }\n",
       "</style>\n",
       "<table border=\"1\" class=\"dataframe\">\n",
       "  <thead>\n",
       "    <tr style=\"text-align: right;\">\n",
       "      <th></th>\n",
       "      <th>Total players</th>\n",
       "    </tr>\n",
       "  </thead>\n",
       "  <tbody>\n",
       "    <tr>\n",
       "      <th>0</th>\n",
       "      <td>576</td>\n",
       "    </tr>\n",
       "  </tbody>\n",
       "</table>\n",
       "</div>"
      ],
      "text/plain": [
       "   Total players\n",
       "0            576"
      ]
     },
     "execution_count": 56,
     "metadata": {},
     "output_type": "execute_result"
    }
   ],
   "source": [
    "#opening and converting the csv to a dataframe\n",
    "purchases_df = pd.read_csv(csvpath)\n",
    "\n",
    "#retrieving a list with all the individual players\n",
    "player_list = purchases_df[\"SN\"].unique()\n",
    "\n",
    "#obtaining total number of players\n",
    "total_players = len(player_list)\n",
    "\n",
    "#formatting the output as dataframe\n",
    "total_players_df = pd.DataFrame({\"Total players\":[total_players]})\n",
    "total_players_df\n",
    "\n"
   ]
  },
  {
   "cell_type": "code",
   "execution_count": 53,
   "metadata": {},
   "outputs": [
    {
     "data": {
      "text/html": [
       "<div>\n",
       "<style scoped>\n",
       "    .dataframe tbody tr th:only-of-type {\n",
       "        vertical-align: middle;\n",
       "    }\n",
       "\n",
       "    .dataframe tbody tr th {\n",
       "        vertical-align: top;\n",
       "    }\n",
       "\n",
       "    .dataframe thead th {\n",
       "        text-align: right;\n",
       "    }\n",
       "</style>\n",
       "<table border=\"1\" class=\"dataframe\">\n",
       "  <thead>\n",
       "    <tr style=\"text-align: right;\">\n",
       "      <th></th>\n",
       "      <th>Unique items sold</th>\n",
       "      <th>Total purchases</th>\n",
       "      <th>Average purchase</th>\n",
       "      <th>Total revenue</th>\n",
       "    </tr>\n",
       "  </thead>\n",
       "  <tbody>\n",
       "    <tr>\n",
       "      <th>0</th>\n",
       "      <td>179</td>\n",
       "      <td>780</td>\n",
       "      <td>3.050987</td>\n",
       "      <td>2379.77</td>\n",
       "    </tr>\n",
       "  </tbody>\n",
       "</table>\n",
       "</div>"
      ],
      "text/plain": [
       "   Unique items sold  Total purchases  Average purchase  Total revenue\n",
       "0                179              780          3.050987        2379.77"
      ]
     },
     "execution_count": 53,
     "metadata": {},
     "output_type": "execute_result"
    }
   ],
   "source": [
    "#doing purchasing analysis\n",
    "\n",
    "#obtaining the number of unique items sold\n",
    "items_list = purchases_df[\"Item Name\"].unique()\n",
    "total_items = len(items_list)\n",
    "\n",
    "#obtaining the average purchase price\n",
    "average_purchase = purchases_df[\"Price\"].mean()\n",
    "\n",
    "#obtaining total number of purchases\n",
    "#using Purchase ID to count since it's the column less likely to have missing values\n",
    "total_purchases = purchases_df[\"Purchase ID\"].count()\n",
    "\n",
    "#obtaining total revenue\n",
    "total_revenue = purchases_df[\"Price\"].sum()\n",
    "\n",
    "#formatting the output\n",
    "#creating the dataframe\n",
    "purchases_results_df = pd.DataFrame({\"Unique items sold\":[total_items],\n",
    "                                     \"Total purchases\":[total_purchases],\n",
    "                                     \"Average purchase\":[average_purchase],\n",
    "                                     \"Total revenue\":[total_revenue]})\n",
    "purchases_results_df\n",
    "\n"
   ]
  },
  {
   "cell_type": "code",
   "execution_count": 33,
   "metadata": {},
   "outputs": [
    {
     "name": "stdout",
     "output_type": "stream",
     "text": [
      "3.050987179487176\n"
     ]
    }
   ],
   "source": []
  }
 ],
 "metadata": {
  "kernelspec": {
   "display_name": "Python 3",
   "language": "python",
   "name": "python3"
  },
  "language_info": {
   "codemirror_mode": {
    "name": "ipython",
    "version": 3
   },
   "file_extension": ".py",
   "mimetype": "text/x-python",
   "name": "python",
   "nbconvert_exporter": "python",
   "pygments_lexer": "ipython3",
   "version": "3.8.5"
  }
 },
 "nbformat": 4,
 "nbformat_minor": 4
}
