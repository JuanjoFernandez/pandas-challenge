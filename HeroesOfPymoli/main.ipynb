{
 "cells": [
  {
   "cell_type": "code",
   "execution_count": 1,
   "metadata": {},
   "outputs": [],
   "source": [
    "#Importing libraries\n",
    "import csv\n",
    "import os\n",
    "import pandas as pd"
   ]
  },
  {
   "cell_type": "code",
   "execution_count": 2,
   "metadata": {},
   "outputs": [],
   "source": [
    "#path to csv file\n",
    "csvpath = os.path.join('Resources', 'purchase_data.csv')"
   ]
  },
  {
   "cell_type": "code",
   "execution_count": 3,
   "metadata": {},
   "outputs": [
    {
     "data": {
      "text/html": [
       "<div>\n",
       "<style scoped>\n",
       "    .dataframe tbody tr th:only-of-type {\n",
       "        vertical-align: middle;\n",
       "    }\n",
       "\n",
       "    .dataframe tbody tr th {\n",
       "        vertical-align: top;\n",
       "    }\n",
       "\n",
       "    .dataframe thead th {\n",
       "        text-align: right;\n",
       "    }\n",
       "</style>\n",
       "<table border=\"1\" class=\"dataframe\">\n",
       "  <thead>\n",
       "    <tr style=\"text-align: right;\">\n",
       "      <th></th>\n",
       "      <th>Total players</th>\n",
       "    </tr>\n",
       "  </thead>\n",
       "  <tbody>\n",
       "    <tr>\n",
       "      <th>0</th>\n",
       "      <td>576</td>\n",
       "    </tr>\n",
       "  </tbody>\n",
       "</table>\n",
       "</div>"
      ],
      "text/plain": [
       "   Total players\n",
       "0            576"
      ]
     },
     "execution_count": 3,
     "metadata": {},
     "output_type": "execute_result"
    }
   ],
   "source": [
    "#opening and converting the csv to a dataframe\n",
    "purchases_df = pd.read_csv(csvpath)\n",
    "\n",
    "#retrieving a list with all the individual players\n",
    "player_list = purchases_df[\"SN\"].unique()\n",
    "\n",
    "#obtaining total number of players\n",
    "total_players = len(player_list)\n",
    "\n",
    "#formatting the output as dataframe\n",
    "total_players_df = pd.DataFrame({\"Total players\":[total_players]})\n",
    "total_players_df"
   ]
  },
  {
   "cell_type": "code",
   "execution_count": 4,
   "metadata": {},
   "outputs": [
    {
     "data": {
      "text/html": [
       "<div>\n",
       "<style scoped>\n",
       "    .dataframe tbody tr th:only-of-type {\n",
       "        vertical-align: middle;\n",
       "    }\n",
       "\n",
       "    .dataframe tbody tr th {\n",
       "        vertical-align: top;\n",
       "    }\n",
       "\n",
       "    .dataframe thead th {\n",
       "        text-align: right;\n",
       "    }\n",
       "</style>\n",
       "<table border=\"1\" class=\"dataframe\">\n",
       "  <thead>\n",
       "    <tr style=\"text-align: right;\">\n",
       "      <th></th>\n",
       "      <th>Unique items sold</th>\n",
       "      <th>Total purchases</th>\n",
       "      <th>Average purchase</th>\n",
       "      <th>Total revenue</th>\n",
       "    </tr>\n",
       "  </thead>\n",
       "  <tbody>\n",
       "    <tr>\n",
       "      <th>0</th>\n",
       "      <td>179</td>\n",
       "      <td>780</td>\n",
       "      <td>3.050987</td>\n",
       "      <td>2379.77</td>\n",
       "    </tr>\n",
       "  </tbody>\n",
       "</table>\n",
       "</div>"
      ],
      "text/plain": [
       "   Unique items sold  Total purchases  Average purchase  Total revenue\n",
       "0                179              780          3.050987        2379.77"
      ]
     },
     "execution_count": 4,
     "metadata": {},
     "output_type": "execute_result"
    }
   ],
   "source": [
    "#doing purchasing analysis\n",
    "\n",
    "#obtaining the number of unique items sold\n",
    "items_list = purchases_df[\"Item Name\"].unique()\n",
    "total_items = len(items_list)\n",
    "\n",
    "#obtaining the average purchase price\n",
    "average_purchase = purchases_df[\"Price\"].mean()\n",
    "\n",
    "#obtaining total number of purchases\n",
    "#using Purchase ID to count since it's the column less likely to have missing values\n",
    "total_purchases = purchases_df[\"Purchase ID\"].count()\n",
    "\n",
    "#obtaining total revenue\n",
    "total_revenue = purchases_df[\"Price\"].sum()\n",
    "\n",
    "#formatting the output\n",
    "#creating the dataframe\n",
    "purchases_results_df = pd.DataFrame({\"Unique items sold\":[total_items],\n",
    "                                     \"Total purchases\":[total_purchases],\n",
    "                                     \"Average purchase\":[average_purchase],\n",
    "                                     \"Total revenue\":[total_revenue]})\n",
    "purchases_results_df"
   ]
  },
  {
   "cell_type": "code",
   "execution_count": 32,
   "metadata": {},
   "outputs": [
    {
     "data": {
      "text/html": [
       "<div>\n",
       "<style scoped>\n",
       "    .dataframe tbody tr th:only-of-type {\n",
       "        vertical-align: middle;\n",
       "    }\n",
       "\n",
       "    .dataframe tbody tr th {\n",
       "        vertical-align: top;\n",
       "    }\n",
       "\n",
       "    .dataframe thead th {\n",
       "        text-align: right;\n",
       "    }\n",
       "</style>\n",
       "<table border=\"1\" class=\"dataframe\">\n",
       "  <thead>\n",
       "    <tr style=\"text-align: right;\">\n",
       "      <th></th>\n",
       "      <th></th>\n",
       "      <th>Total Count</th>\n",
       "      <th>Percentage of Players</th>\n",
       "    </tr>\n",
       "  </thead>\n",
       "  <tbody>\n",
       "    <tr>\n",
       "      <th>0</th>\n",
       "      <td>Male</td>\n",
       "      <td>484</td>\n",
       "      <td>0.840278</td>\n",
       "    </tr>\n",
       "    <tr>\n",
       "      <th>1</th>\n",
       "      <td>Female</td>\n",
       "      <td>81</td>\n",
       "      <td>0.140625</td>\n",
       "    </tr>\n",
       "    <tr>\n",
       "      <th>2</th>\n",
       "      <td>Other / Non Disclosed</td>\n",
       "      <td>11</td>\n",
       "      <td>0.019097</td>\n",
       "    </tr>\n",
       "  </tbody>\n",
       "</table>\n",
       "</div>"
      ],
      "text/plain": [
       "                          Total Count  Percentage of Players\n",
       "0                   Male          484               0.840278\n",
       "1                 Female           81               0.140625\n",
       "2  Other / Non Disclosed           11               0.019097"
      ]
     },
     "execution_count": 32,
     "metadata": {},
     "output_type": "execute_result"
    }
   ],
   "source": [
    "#gender demographics analysis\n",
    "\n",
    "#creating a new dataframe witout duplicated players\n",
    "player_gender_df = purchases_df.copy(deep=True)\n",
    "player_gender_df.drop_duplicates(subset=\"SN\", keep = 'first', inplace=True)\n",
    "\n",
    "#obtaining all data necessary for calculations\n",
    "counted_gender = player_gender_df[\"Gender\"].value_counts()\n",
    "male_count = counted_gender[\"Male\"]\n",
    "female_count = counted_gender[\"Female\"]\n",
    "other_count = counted_gender[\"Other / Non-Disclosed\"]\n",
    "\n",
    "#creating the output dataframe\n",
    "gender_results_df = pd.DataFrame({\" \":[\"Male\", \"Female\", \"Other / Non Disclosed\"],\n",
    "                                 \"Total Count\":[male_count, female_count, other_count],\n",
    "                                 \"Percentage of Players\":[male_count/total_players,\n",
    "                                                          female_count/total_players,\n",
    "                                                          other_count/total_players]})\n",
    "\n",
    "gender_results_df"
   ]
  },
  {
   "cell_type": "code",
   "execution_count": 35,
   "metadata": {},
   "outputs": [
    {
     "data": {
      "text/html": [
       "<div>\n",
       "<style scoped>\n",
       "    .dataframe tbody tr th:only-of-type {\n",
       "        vertical-align: middle;\n",
       "    }\n",
       "\n",
       "    .dataframe tbody tr th {\n",
       "        vertical-align: top;\n",
       "    }\n",
       "\n",
       "    .dataframe thead th {\n",
       "        text-align: right;\n",
       "    }\n",
       "</style>\n",
       "<table border=\"1\" class=\"dataframe\">\n",
       "  <thead>\n",
       "    <tr style=\"text-align: right;\">\n",
       "      <th></th>\n",
       "      <th>Gender</th>\n",
       "      <th>Number of Purchases</th>\n",
       "      <th>Total Purchase Value</th>\n",
       "      <th>Average Purchase</th>\n",
       "      <th>Average Purchase by Player</th>\n",
       "    </tr>\n",
       "  </thead>\n",
       "  <tbody>\n",
       "    <tr>\n",
       "      <th>0</th>\n",
       "      <td>Female</td>\n",
       "      <td>113</td>\n",
       "      <td>361.94</td>\n",
       "      <td>3.203009</td>\n",
       "      <td>4.468395</td>\n",
       "    </tr>\n",
       "    <tr>\n",
       "      <th>1</th>\n",
       "      <td>Male</td>\n",
       "      <td>652</td>\n",
       "      <td>1967.64</td>\n",
       "      <td>3.017853</td>\n",
       "      <td>4.065372</td>\n",
       "    </tr>\n",
       "    <tr>\n",
       "      <th>2</th>\n",
       "      <td>Other / Non Disclosed</td>\n",
       "      <td>15</td>\n",
       "      <td>50.19</td>\n",
       "      <td>3.346000</td>\n",
       "      <td>4.562727</td>\n",
       "    </tr>\n",
       "  </tbody>\n",
       "</table>\n",
       "</div>"
      ],
      "text/plain": [
       "                  Gender  Number of Purchases  Total Purchase Value  \\\n",
       "0                 Female                  113                361.94   \n",
       "1                   Male                  652               1967.64   \n",
       "2  Other / Non Disclosed                   15                 50.19   \n",
       "\n",
       "   Average Purchase  Average Purchase by Player  \n",
       "0          3.203009                    4.468395  \n",
       "1          3.017853                    4.065372  \n",
       "2          3.346000                    4.562727  "
      ]
     },
     "execution_count": 35,
     "metadata": {},
     "output_type": "execute_result"
    }
   ],
   "source": [
    "#purchasing analysis by gender\n",
    "\n",
    "#slicing the dataframe by gender\n",
    "male_df = purchases_df.loc[(purchases_df['Gender'] == 'Male'), :]\n",
    "female_df = purchases_df.loc[(purchases_df['Gender'] == 'Female'), :]\n",
    "other_df = purchases_df.loc[(purchases_df['Gender'] == 'Other / Non-Disclosed'), :]\n",
    "\n",
    "#obtaining purchase count\n",
    "male_purchases = len(male_df)\n",
    "female_purchases = len(female_df)\n",
    "other_purchases = len(other_df)\n",
    "\n",
    "#obtainin total purchase value\n",
    "male_total = male_df['Price'].sum()\n",
    "female_total = female_df['Price'].sum()\n",
    "other_total = other_df['Price'].sum()\n",
    "\n",
    "#obtaining average purchase\n",
    "male_avg = male_total / male_purchases\n",
    "female_avg = female_total / female_purchases\n",
    "other_avg = other_total / other_purchases\n",
    "\n",
    "#obtaining average purchase by player by gender\n",
    "male_p_avg = male_total / male_count\n",
    "female_p_avg = female_total / female_count\n",
    "other_p_avg = other_total / other_count\n",
    "\n",
    "\n",
    "#building the results dataframe\n",
    "results_df = pd.DataFrame({'Gender': ['Female', 'Male', 'Other / Non Disclosed'],\n",
    "                          'Number of Purchases': [female_purchases, male_purchases, other_purchases],\n",
    "                          'Total Purchase Value': [female_total, male_total, other_total],\n",
    "                          'Average Purchase': [female_avg, male_avg, other_avg],\n",
    "                          'Average Purchase by Player': [female_p_avg, male_p_avg, other_p_avg]})\n",
    "\n",
    "results_df\n"
   ]
  },
  {
   "cell_type": "code",
   "execution_count": null,
   "metadata": {},
   "outputs": [],
   "source": []
  },
  {
   "cell_type": "code",
   "execution_count": null,
   "metadata": {},
   "outputs": [],
   "source": []
  },
  {
   "cell_type": "code",
   "execution_count": null,
   "metadata": {},
   "outputs": [],
   "source": []
  },
  {
   "cell_type": "code",
   "execution_count": null,
   "metadata": {},
   "outputs": [],
   "source": []
  }
 ],
 "metadata": {
  "kernelspec": {
   "display_name": "PythonData",
   "language": "python",
   "name": "pythondata"
  },
  "language_info": {
   "codemirror_mode": {
    "name": "ipython",
    "version": 3
   },
   "file_extension": ".py",
   "mimetype": "text/x-python",
   "name": "python",
   "nbconvert_exporter": "python",
   "pygments_lexer": "ipython3",
   "version": "3.8.5"
  }
 },
 "nbformat": 4,
 "nbformat_minor": 4
}
